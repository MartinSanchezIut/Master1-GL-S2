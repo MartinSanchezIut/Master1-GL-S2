{
 "cells": [
  {
   "cell_type": "markdown",
   "metadata": {
    "id": "JFSvObLwUvEw",
    "pycharm": {
     "name": "#%% md\n"
    }
   },
   "source": [
    "<H1> Classification avec le jeu de données TITANIC </H1>"
   ]
  },
  {
   "cell_type": "markdown",
   "metadata": {
    "id": "ELipiv2LSxlz",
    "pycharm": {
     "name": "#%% md\n"
    }
   },
   "source": [
    "L'objectif est de poursuivre le TP précédente où de nombreux prétraitements ont été effecutés en ingénierie des données pour pouvoir faire un modèle de prédiction des survivants ou non.\n"
   ]
  },
  {
   "cell_type": "markdown",
   "source": [
    "## **Installation**\n"
   ],
   "metadata": {
    "id": "0ipZpM6RMEV7",
    "pycharm": {
     "name": "#%% md\n"
    }
   }
  },
  {
   "cell_type": "markdown",
   "source": [
    "\n",
    "Avant de commencer, il est nécessaire de déjà posséder dans son environnement toutes les librairies utiles. Dans la seconde cellule nous importons toutes les librairies qui seront utiles à ce notebook. Il se peut que, lorsque vous lanciez l'éxecution de cette cellule, une soit absente. Dans ce cas il est nécessaire de l'installer. Pour cela dans la cellule suivante utiliser la commande :  \n",
    "\n",
    "*! pip install nom_librairie*  \n",
    "\n",
    "**Attention :** il est fortement conseillé lorsque l'une des librairies doit être installer de relancer le kernel de votre notebook.\n",
    "\n",
    "**Remarque :** même si toutes les librairies sont importées dès le début, les librairies utiles pour des fonctions présentées au cours de ce notebook sont ré-importées de manière à indiquer d'où elles viennent et ainsi faciliter la réutilisation de la fonction dans un autre projet."
   ],
   "metadata": {
    "id": "y-Q8HasoMUjG",
    "pycharm": {
     "name": "#%% md\n"
    }
   }
  },
  {
   "cell_type": "code",
   "source": [
    "# utiliser cette cellule pour installer les librairies manquantes\n",
    "# pour cela il suffit de taper dans cette cellule : !pip install nom_librairie_manquante\n",
    "# d'exécuter la cellule et de relancer la cellule suivante pour voir si tout se passe bien\n",
    "# recommencer tant que toutes les librairies ne sont pas installées ...\n",
    "\n",
    "\n",
    "#!pip install ..\n",
    "\n",
    "# ne pas oublier de relancer le kernel du notebook"
   ],
   "metadata": {
    "id": "Bw_tSSXWMa98",
    "pycharm": {
     "name": "#%%\n"
    }
   },
   "execution_count": 1,
   "outputs": []
  },
  {
   "cell_type": "code",
   "source": [
    "# Importation des différentes librairies utiles pour le notebook\n",
    "\n",
    "#Sickit learn met régulièrement à jour des versions et \n",
    "#indique des futurs warnings. \n",
    "#ces deux lignes permettent de ne pas les afficher.\n",
    "import warnings\n",
    "warnings.filterwarnings(\"ignore\", category=FutureWarning)\n",
    "\n",
    "import pandas as pd\n",
    "import seaborn as sns\n",
    "import matplotlib.pyplot as plt\n",
    "import sys\n",
    "import pandas as pd\n",
    "import numpy as np \n",
    "import sklearn\n",
    "from sklearn.naive_bayes import GaussianNB\n",
    "from sklearn.metrics import accuracy_score\n",
    "from sklearn.model_selection import train_test_split \n",
    "from sklearn.model_selection import KFold\n",
    "from sklearn.model_selection import cross_val_score\n",
    "from sklearn.metrics import confusion_matrix\n",
    "from sklearn.metrics import classification_report\n",
    "import seaborn as sns\n",
    "import matplotlib.pyplot as plt\n",
    "from sklearn.metrics import precision_recall_fscore_support as score\n",
    "from sklearn.linear_model import LogisticRegression\n",
    "from sklearn.tree import DecisionTreeClassifier\n",
    "from sklearn.neighbors import KNeighborsClassifier\n",
    "from sklearn.naive_bayes import GaussianNB\n",
    "from sklearn.svm import SVC\n",
    "from sklearn.model_selection import GridSearchCV\n",
    "from sklearn.ensemble import RandomForestClassifier\n",
    "\n",
    "#Sickit learn met régulièrement à jour des versions et indique des futurs warnings. \n",
    "#ces deux lignes permettent de ne pas les afficher.\n",
    "import warnings\n",
    "warnings.filterwarnings(\"ignore\", category=FutureWarning)"
   ],
   "metadata": {
    "id": "gJXkCVWmMfvW",
    "pycharm": {
     "name": "#%%\n"
    }
   },
   "execution_count": 2,
   "outputs": []
  },
  {
   "cell_type": "markdown",
   "source": [
    "Pour pouvoir lire et sauvegarder sur votre répertoire Google Drive, il est nécessaire de fournir une autorisation. Pour cela il suffit d'éxecuter la ligne suivante et de saisir le code donné par Google."
   ],
   "metadata": {
    "id": "uJyoB1FiNAkI",
    "pycharm": {
     "name": "#%% md\n"
    }
   }
  },
  {
   "cell_type": "code",
   "source": [
    "from google.colab import drive\n",
    "drive.mount('/content/gdrive/')"
   ],
   "metadata": {
    "colab": {
     "base_uri": "https://localhost:8080/",
     "height": 0
    },
    "id": "vQZtvdqANBtj",
    "outputId": "28f4c76e-d3dd-4148-c10d-10a5018b0445",
    "pycharm": {
     "name": "#%%\n"
    }
   },
   "execution_count": 3,
   "outputs": [
    {
     "ename": "ModuleNotFoundError",
     "evalue": "No module named 'google.colab'",
     "output_type": "error",
     "traceback": [
      "\u001B[1;31m---------------------------------------------------------------------------\u001B[0m",
      "\u001B[1;31mModuleNotFoundError\u001B[0m                       Traceback (most recent call last)",
      "Input \u001B[1;32mIn [3]\u001B[0m, in \u001B[0;36m<cell line: 1>\u001B[1;34m()\u001B[0m\n\u001B[1;32m----> 1\u001B[0m \u001B[38;5;28;01mfrom\u001B[39;00m \u001B[38;5;21;01mgoogle\u001B[39;00m\u001B[38;5;21;01m.\u001B[39;00m\u001B[38;5;21;01mcolab\u001B[39;00m \u001B[38;5;28;01mimport\u001B[39;00m drive\n\u001B[0;32m      2\u001B[0m drive\u001B[38;5;241m.\u001B[39mmount(\u001B[38;5;124m'\u001B[39m\u001B[38;5;124m/content/gdrive/\u001B[39m\u001B[38;5;124m'\u001B[39m)\n",
      "\u001B[1;31mModuleNotFoundError\u001B[0m: No module named 'google.colab'"
     ]
    }
   ]
  },
  {
   "cell_type": "markdown",
   "source": [
    "Corriger éventuellement la ligne ci-dessous pour mettre le chemin vers un répertoire spécifique dans votre répertoire google drive : "
   ],
   "metadata": {
    "id": "wP2LKBzbNL6j",
    "pycharm": {
     "name": "#%% md\n"
    }
   }
  },
  {
   "cell_type": "code",
   "source": [
    "my_local_drive='/content/gdrive/My Drive/Colab Notebooks/ML_FDS'\n",
    "# Ajout du path pour les librairies, fonctions et données\n",
    "sys.path.append(my_local_drive)\n",
    "# Se positionner sur le répertoire associé\n",
    "%cd $my_local_drive\n",
    "\n",
    "%pwd"
   ],
   "metadata": {
    "colab": {
     "base_uri": "https://localhost:8080/",
     "height": 54
    },
    "id": "q_EAJ-fVNNU7",
    "outputId": "6eb7db38-0e62-4ece-b302-8d12ec11eb83",
    "pycharm": {
     "name": "#%%\n"
    }
   },
   "execution_count": 4,
   "outputs": [
    {
     "name": "stdout",
     "output_type": "stream",
     "text": [
      "[WinError 3] Le chemin d’accès spécifié est introuvable: '/content/gdrive/My Drive/Colab Notebooks/ML_FDS'\n",
      "D:\\Acces Rapide\\Cours\\Master1-GL-S2\\HAI817-MachineLearning\\TP2-Solution-20220222\n"
     ]
    },
    {
     "data": {
      "text/plain": "'D:\\\\Acces Rapide\\\\Cours\\\\Master1-GL-S2\\\\HAI817-MachineLearning\\\\TP2-Solution-20220222'"
     },
     "execution_count": 4,
     "metadata": {},
     "output_type": "execute_result"
    }
   ]
  },
  {
   "cell_type": "markdown",
   "source": [
    "## **Travaux pratiques**"
   ],
   "metadata": {
    "id": "wkSIFeb3NYyP",
    "pycharm": {
     "name": "#%% md\n"
    }
   }
  },
  {
   "cell_type": "markdown",
   "metadata": {
    "id": "SpLO_7h4UvE4",
    "pycharm": {
     "name": "#%% md\n"
    }
   },
   "source": [
    "Si vous n'avez pas terminé le TP précédent vous pouvez récupérer le fichier titanic2.csv qui contient les différentes transformations. Le mettre dans le répertoire Dataset."
   ]
  },
  {
   "cell_type": "code",
   "execution_count": 5,
   "metadata": {
    "colab": {
     "base_uri": "https://localhost:8080/",
     "height": 204
    },
    "id": "LsoVrVN-UvE5",
    "outputId": "f9e0d1fd-73a3-4965-af1a-c02221b54990",
    "pycharm": {
     "name": "#%%\n"
    }
   },
   "outputs": [
    {
     "data": {
      "text/plain": "   Survived  Pclass  Sex  Age  SibSp  Parch  Fare  Embarked\n0         0       3    1    4      1      0     0         2\n1         1       1    0    0      1      0     3         0\n2         1       3    0    6      0      0     0         2\n3         1       1    0    6      1      0     3         2\n4         0       3    1    6      0      0     1         2",
      "text/html": "<div>\n<style scoped>\n    .dataframe tbody tr th:only-of-type {\n        vertical-align: middle;\n    }\n\n    .dataframe tbody tr th {\n        vertical-align: top;\n    }\n\n    .dataframe thead th {\n        text-align: right;\n    }\n</style>\n<table border=\"1\" class=\"dataframe\">\n  <thead>\n    <tr style=\"text-align: right;\">\n      <th></th>\n      <th>Survived</th>\n      <th>Pclass</th>\n      <th>Sex</th>\n      <th>Age</th>\n      <th>SibSp</th>\n      <th>Parch</th>\n      <th>Fare</th>\n      <th>Embarked</th>\n    </tr>\n  </thead>\n  <tbody>\n    <tr>\n      <th>0</th>\n      <td>0</td>\n      <td>3</td>\n      <td>1</td>\n      <td>4</td>\n      <td>1</td>\n      <td>0</td>\n      <td>0</td>\n      <td>2</td>\n    </tr>\n    <tr>\n      <th>1</th>\n      <td>1</td>\n      <td>1</td>\n      <td>0</td>\n      <td>0</td>\n      <td>1</td>\n      <td>0</td>\n      <td>3</td>\n      <td>0</td>\n    </tr>\n    <tr>\n      <th>2</th>\n      <td>1</td>\n      <td>3</td>\n      <td>0</td>\n      <td>6</td>\n      <td>0</td>\n      <td>0</td>\n      <td>0</td>\n      <td>2</td>\n    </tr>\n    <tr>\n      <th>3</th>\n      <td>1</td>\n      <td>1</td>\n      <td>0</td>\n      <td>6</td>\n      <td>1</td>\n      <td>0</td>\n      <td>3</td>\n      <td>2</td>\n    </tr>\n    <tr>\n      <th>4</th>\n      <td>0</td>\n      <td>3</td>\n      <td>1</td>\n      <td>6</td>\n      <td>0</td>\n      <td>0</td>\n      <td>1</td>\n      <td>2</td>\n    </tr>\n  </tbody>\n</table>\n</div>"
     },
     "execution_count": 5,
     "metadata": {},
     "output_type": "execute_result"
    }
   ],
   "source": [
    "df=pd.read_csv('titanic2.csv', sep=';')\n",
    "df.head()"
   ]
  },
  {
   "cell_type": "markdown",
   "metadata": {
    "id": "UxwudiVLUvE5",
    "pycharm": {
     "name": "#%% md\n"
    }
   },
   "source": [
    "Il faut maintenant définir les variables d'apprentissage et la variable à prédire. Ici Suvived est la variable à prédire. \n",
    "Attention elle est positionné à la première colonne. "
   ]
  },
  {
   "cell_type": "code",
   "execution_count": 6,
   "metadata": {
    "id": "RljW41JpUvE6",
    "pycharm": {
     "name": "#%%\n"
    }
   },
   "outputs": [],
   "source": [
    "array = df.values\n",
    "X = array[:,1:8] \n",
    "y = array[:,0]\n"
   ]
  },
  {
   "cell_type": "markdown",
   "metadata": {
    "id": "u35yREchUvE6",
    "pycharm": {
     "name": "#%% md\n"
    }
   },
   "source": [
    "Découper le jeu de données en jeu de test et jeu d'apprentissage. Prenez 30% du jeu de données pour le test. "
   ]
  },
  {
   "cell_type": "code",
   "execution_count": 7,
   "metadata": {
    "id": "NRFpRcBmUvE6",
    "pycharm": {
     "name": "#%%\n"
    }
   },
   "outputs": [],
   "source": [
    "\n",
    "validation_size=0.3 #30% du jeu de données pour le test\n",
    "\n",
    "testsize= 1-validation_size\n",
    "seed=30\n",
    "X_train, X_test, y_train, y_test = train_test_split(X, y, \n",
    "                 train_size=validation_size, \n",
    "                 random_state=seed,test_size=testsize)\n",
    "\n"
   ]
  },
  {
   "cell_type": "markdown",
   "metadata": {
    "id": "727B1gH9UvE7",
    "pycharm": {
     "name": "#%% md\n"
    }
   },
   "source": [
    "** Essai d'un classifieur **  \n",
    "\n",
    "Avec le classifieur GaussianNB effectuer une première prédiction en donnant la valeur de l'accuracy."
   ]
  },
  {
   "cell_type": "code",
   "execution_count": 8,
   "metadata": {
    "colab": {
     "base_uri": "https://localhost:8080/",
     "height": 0
    },
    "id": "4pPqSXm-UvE7",
    "outputId": "64409fd6-224a-4786-dd1f-d1c8b70ed6be",
    "pycharm": {
     "name": "#%%\n"
    }
   },
   "outputs": [
    {
     "name": "stdout",
     "output_type": "stream",
     "text": [
      "\n",
      " accuracy : 0.7155963302752294 \n",
      "\n"
     ]
    }
   ],
   "source": [
    "clf = GaussianNB()\n",
    "clf.fit(X_train, y_train)\n",
    "\n",
    "result = clf.predict(X_test)\n",
    "\n",
    "print('\\n accuracy :', \n",
    "      accuracy_score(result, y_test),'\\n')"
   ]
  },
  {
   "cell_type": "markdown",
   "metadata": {
    "id": "E7d6XWdcUvE8",
    "pycharm": {
     "name": "#%% md\n"
    }
   },
   "source": [
    "Afficher la matrice de confusion et le classification report."
   ]
  },
  {
   "cell_type": "code",
   "execution_count": 10,
   "metadata": {
    "colab": {
     "base_uri": "https://localhost:8080/",
     "height": 0
    },
    "id": "Q3tfePS1UvE8",
    "outputId": "2325232b-acfb-4f43-c582-220e8b24959e",
    "pycharm": {
     "name": "#%%\n"
    }
   },
   "outputs": [
    {
     "name": "stdout",
     "output_type": "stream",
     "text": [
      "\n",
      " matrice de confusion \n",
      " [[57 17]\n",
      " [14 21]]\n",
      "\n",
      "               precision    recall  f1-score   support\n",
      "\n",
      "           0       0.80      0.77      0.79        74\n",
      "           1       0.55      0.60      0.58        35\n",
      "\n",
      "    accuracy                           0.72       109\n",
      "   macro avg       0.68      0.69      0.68       109\n",
      "weighted avg       0.72      0.72      0.72       109\n",
      "\n"
     ]
    }
   ],
   "source": [
    "conf = confusion_matrix(y_test, result)\n",
    "print ('\\n matrice de confusion \\n',conf)\n",
    "\n",
    "print ('\\n',classification_report(y_test, \n",
    "                                  result))"
   ]
  },
  {
   "cell_type": "markdown",
   "metadata": {
    "id": "o081fVftUvE9",
    "pycharm": {
     "name": "#%% md\n"
    }
   },
   "source": [
    "\n",
    "\n",
    "Effectuer une cross validation avec 10 splits (Kfold)"
   ]
  },
  {
   "cell_type": "code",
   "execution_count": 11,
   "metadata": {
    "id": "pVNIEfEbUvE9",
    "pycharm": {
     "name": "#%%\n"
    }
   },
   "outputs": [],
   "source": [
    "seed=7\n",
    "k_fold = KFold(n_splits=10, \n",
    "               shuffle=True, random_state=seed)"
   ]
  },
  {
   "cell_type": "markdown",
   "metadata": {
    "id": "Q5axXTReUvE-",
    "pycharm": {
     "name": "#%% md\n"
    }
   },
   "source": [
    "Appliquer le classifieur GaussianNB et donner les différentes accuracy pour les 10 évaluations."
   ]
  },
  {
   "cell_type": "code",
   "execution_count": 12,
   "metadata": {
    "colab": {
     "base_uri": "https://localhost:8080/",
     "height": 0
    },
    "id": "pkOLk1DNUvE-",
    "outputId": "248be043-dc4a-4b87-d995-8d10d3f18707",
    "pycharm": {
     "name": "#%%\n"
    }
   },
   "outputs": [
    {
     "name": "stdout",
     "output_type": "stream",
     "text": [
      "Les différentes accuracy pour les 10 évaluations sont : \n",
      " [0.8125     0.8125     0.75       0.75       0.875      0.86666667\n",
      " 0.73333333 0.8        0.73333333 0.73333333] \n",
      "\n",
      "Accuracy moyenne :  0.7866666666666667  standard deviation 0.051901348730066764\n"
     ]
    }
   ],
   "source": [
    "clf = GaussianNB()\n",
    "\n",
    "scoring = 'accuracy'\n",
    "score = cross_val_score(clf, X, y, \n",
    "                        cv=k_fold, scoring=scoring)\n",
    "\n",
    "print('Les différentes accuracy pour les 10 évaluations sont : \\n',score,'\\n')\n",
    "print ('Accuracy moyenne : ',score.mean(),\n",
    "       ' standard deviation', score.std())\n"
   ]
  },
  {
   "cell_type": "markdown",
   "metadata": {
    "id": "iWIxHUFLUvE_",
    "pycharm": {
     "name": "#%% md\n"
    }
   },
   "source": [
    "** Essai de plusieurs classifieurs **\n",
    "\n",
    "Utiliser à présent différents classifieurs : KNeighborsClassifier, DecisionTreeClassifier, GaussianNB, SVC et RandomForestClassifier."
   ]
  },
  {
   "cell_type": "code",
   "execution_count": 13,
   "metadata": {
    "id": "Bi7bgNe9UvE_",
    "pycharm": {
     "name": "#%%\n"
    }
   },
   "outputs": [],
   "source": [
    "seed = 7\n",
    "scoring = 'accuracy'\n",
    "models = []\n",
    "models.append(('KNN', KNeighborsClassifier()))\n",
    "models.append(('CART', DecisionTreeClassifier()))\n",
    "models.append(('NB', GaussianNB()))\n",
    "models.append(('SVM', SVC(gamma='auto')))\n",
    "models.append(('RFO', RandomForestClassifier()))"
   ]
  },
  {
   "cell_type": "markdown",
   "metadata": {
    "id": "g6egGDOZUvFA",
    "pycharm": {
     "name": "#%% md\n"
    }
   },
   "source": [
    "Quels sont les résultats des classifications ? Quel est le classifieur le plus efficace ? "
   ]
  },
  {
   "cell_type": "code",
   "execution_count": 14,
   "metadata": {
    "colab": {
     "base_uri": "https://localhost:8080/",
     "height": 0
    },
    "id": "U8lCOw1eUvFA",
    "outputId": "682a2e66-940a-419d-b8a5-a6fd31eccf94",
    "pycharm": {
     "name": "#%%\n"
    }
   },
   "outputs": [
    {
     "name": "stdout",
     "output_type": "stream",
     "text": [
      "KNN: 0.662500 (0.138919)\n",
      "CART: 0.715417 (0.060640)\n",
      "NB: 0.786667 (0.051901)\n",
      "SVM: 0.735000 (0.068572)\n",
      "RFO: 0.715833 (0.081624)\n"
     ]
    }
   ],
   "source": [
    "results = []\n",
    "names = []\n",
    "for name,model in models:\n",
    "    kfold = KFold(n_splits=10, random_state=seed, shuffle=True)\n",
    "    cv_results = cross_val_score(model, X, \n",
    "                                 y, cv=kfold, scoring=scoring)\n",
    "    results.append(cv_results)\n",
    "    names.append(name)\n",
    "    msg = \"%s: %f (%f)\" % (name, cv_results.mean(), \n",
    "                           cv_results.std())\n",
    "    print(msg)       "
   ]
  },
  {
   "cell_type": "markdown",
   "metadata": {
    "id": "It8dCPqlUvFB",
    "pycharm": {
     "name": "#%% md\n"
    }
   },
   "source": [
    "A l'aide de boxplot afficher les résultats des différents classifieurs. "
   ]
  },
  {
   "cell_type": "code",
   "execution_count": 15,
   "metadata": {
    "colab": {
     "base_uri": "https://localhost:8080/",
     "height": 379
    },
    "id": "pQB5e9-RUvFB",
    "outputId": "4b311dc0-5d7c-4fe7-c62b-06655963b383",
    "pycharm": {
     "name": "#%%\n"
    }
   },
   "outputs": [
    {
     "data": {
      "text/plain": "[Text(1, 0, 'KNN'),\n Text(2, 0, 'CART'),\n Text(3, 0, 'NB'),\n Text(4, 0, 'SVM'),\n Text(5, 0, 'RFO')]"
     },
     "execution_count": 15,
     "metadata": {},
     "output_type": "execute_result"
    },
    {
     "data": {
      "text/plain": "<Figure size 432x288 with 1 Axes>",
      "image/png": "[encoded data removed]"
     },
     "metadata": {
      "needs_background": "light"
     },
     "output_type": "display_data"
    }
   ],
   "source": [
    "fig = plt.figure()\n",
    "fig.suptitle('Comparaison des algorithmes')\n",
    "ax = fig.add_subplot(111)\n",
    "plt.boxplot(results)\n",
    "ax.set_xticklabels(names)"
   ]
  },
  {
   "cell_type": "markdown",
   "metadata": {
    "id": "Qlw_6kTjUvFB",
    "pycharm": {
     "name": "#%% md\n"
    }
   },
   "source": [
    "Le classifieur RandomForestClassifier donne de meilleurs résultats. A l'aide de GridSearch, évaluer les différents paramètres :  \n",
    "  grid_param = {'n_estimators': [4, 6, 9],   \n",
    "     'max_features': ['log2', 'sqrt','auto'],   \n",
    "     'criterion': ['entropy', 'gini'],  \n",
    "     'max_depth': [2, 3, 5, 10],   \n",
    "     'min_samples_split': [2, 3, 5],  \n",
    "     'min_samples_leaf': [1,5,8]  \n",
    "      }  "
   ]
  },
  {
   "cell_type": "code",
   "execution_count": 16,
   "metadata": {
    "scrolled": true,
    "id": "98BCwCkFUvFC",
    "pycharm": {
     "name": "#%%\n"
    }
   },
   "outputs": [],
   "source": [
    "grid_param = {'n_estimators': [4, 6, 9], \n",
    "              'max_features': ['log2', 'sqrt','auto'], \n",
    "              'criterion': ['entropy', 'gini'],\n",
    "              'max_depth': [2, 3, 5, 10], \n",
    "              'min_samples_split': [2, 3, 5],\n",
    "              'min_samples_leaf': [1,5,8]\n",
    "             }\n",
    "\n",
    "gd_sr = GridSearchCV(estimator=RandomForestClassifier(),  \n",
    "                     param_grid=grid_param,\n",
    "                     scoring='accuracy',\n",
    "                     cv=5,\n",
    "                     n_jobs=-1,\n",
    "                    return_train_score=True)\n",
    "\n"
   ]
  },
  {
   "cell_type": "markdown",
   "metadata": {
    "id": "ZWPIJf9DUvFC",
    "pycharm": {
     "name": "#%% md\n"
    }
   },
   "source": [
    "Quelle est la meilleure accuracy et pour quels paramètres ? "
   ]
  },
  {
   "cell_type": "code",
   "execution_count": 17,
   "metadata": {
    "scrolled": true,
    "colab": {
     "base_uri": "https://localhost:8080/",
     "height": 0
    },
    "id": "U-ZYVsj-UvFC",
    "outputId": "94f4574b-a5b0-45ff-bfca-9991da2b558a",
    "pycharm": {
     "name": "#%%\n"
    }
   },
   "outputs": [
    {
     "name": "stdout",
     "output_type": "stream",
     "text": [
      "meilleur score  0.7822222222222222 \n",
      "\n",
      "meilleurs paramètres {'criterion': 'entropy', 'max_depth': 3, 'max_features': 'log2', 'min_samples_leaf': 5, 'min_samples_split': 3, 'n_estimators': 6} \n",
      "\n",
      "meilleur estimateur RandomForestClassifier(criterion='entropy', max_depth=3, max_features='log2',\n",
      "                       min_samples_leaf=5, min_samples_split=3, n_estimators=6) \n",
      "\n"
     ]
    }
   ],
   "source": [
    "gd_sr.fit(X_train, y_train)  \n",
    "print ('meilleur score ',\n",
    "       gd_sr.best_score_,'\\n')\n",
    "print ('meilleurs paramètres', \n",
    "       gd_sr.best_params_,'\\n')\n",
    "print ('meilleur estimateur',\n",
    "       gd_sr.best_estimator_,'\\n')"
   ]
  },
  {
   "cell_type": "markdown",
   "metadata": {
    "id": "kVkLFgBtUvFD",
    "pycharm": {
     "name": "#%% md\n"
    }
   },
   "source": [
    "GaussianNB obtient un assez bon score mais il n'a pas d'hyperparamètres à rechercher. Il est suivi par DecisisionTreeClassifier et SVC.   \n",
    "\n",
    "Appliquer GridSearchCV pour ces deux classifieurs."
   ]
  },
  {
   "cell_type": "code",
   "execution_count": 17,
   "metadata": {
    "colab": {
     "base_uri": "https://localhost:8080/",
     "height": 0
    },
    "id": "1YCll3BvUvFD",
    "outputId": "eedf3673-7831-44b6-a628-9c1e7b57d5a2",
    "pycharm": {
     "name": "#%%\n"
    }
   },
   "outputs": [
    {
     "output_type": "stream",
     "name": "stdout",
     "text": [
      "meilleur score  0.78 \n",
      "\n",
      "meilleurs paramètres {'criterion': 'gini', 'max_depth': 1, 'min_samples_leaf': 1} \n",
      "\n",
      "meilleur estimateur DecisionTreeClassifier(max_depth=1) \n",
      "\n"
     ]
    }
   ],
   "source": [
    "from sklearn.tree import DecisionTreeClassifier\n",
    "\n",
    "\n",
    "grid_param = {  \n",
    "    'max_depth': [1,2,3,4,5,6,7,8,9,10],\n",
    "    'criterion': ['gini', 'entropy'],\n",
    "    'min_samples_leaf': [1,2,3,4,5,6,7,8,9,10]\n",
    "}\n",
    "\n",
    "\n",
    "gd_sr = GridSearchCV(estimator=DecisionTreeClassifier(),  \n",
    "                     param_grid=grid_param,\n",
    "                     scoring='accuracy',\n",
    "                     cv=10,\n",
    "                     n_jobs=-1,\n",
    "                    return_train_score=True)\n",
    "\n",
    "gd_sr.fit(X_train, y_train)  \n",
    "\n",
    "gd_sr.fit(X_train, y_train)  \n",
    "print ('meilleur score ',gd_sr.best_score_,'\\n')\n",
    "print ('meilleurs paramètres', gd_sr.best_params_,'\\n')\n",
    "print ('meilleur estimateur',gd_sr.best_estimator_,'\\n')"
   ]
  },
  {
   "cell_type": "code",
   "execution_count": 18,
   "metadata": {
    "colab": {
     "base_uri": "https://localhost:8080/",
     "height": 0
    },
    "id": "DbdFPiuqUvFD",
    "outputId": "82f86b49-1728-47ff-d313-a15489b7530b",
    "pycharm": {
     "name": "#%%\n"
    }
   },
   "outputs": [
    {
     "output_type": "stream",
     "name": "stdout",
     "text": [
      "meilleur score  0.7377777777777778 \n",
      "\n",
      "meilleurs paramètres {'C': 1, 'gamma': 0.001, 'kernel': 'linear'} \n",
      "\n",
      "meilleur estimateur SVC(C=1, gamma=0.001, kernel='linear') \n",
      "\n"
     ]
    }
   ],
   "source": [
    "grid_param = {\n",
    "    'C': [0.001, 0.01, 0.1, 1, 10], \n",
    "    'gamma' : [0.001, 0.01, 0.1, 1], \n",
    "    'kernel': ['linear','rbf']}\n",
    "\n",
    "gd_sr = GridSearchCV(estimator=SVC(),  \n",
    "                     param_grid=grid_param,\n",
    "                     scoring='accuracy',\n",
    "                     cv=5,\n",
    "                     n_jobs=1,\n",
    "                    return_train_score=True)\n",
    "\n",
    "gd_sr.fit(X_train, y_train)  \n",
    "\n",
    "print ('meilleur score ',\n",
    "       gd_sr.best_score_,'\\n')\n",
    "print ('meilleurs paramètres', \n",
    "       gd_sr.best_params_,'\\n')\n",
    "print ('meilleur estimateur',\n",
    "       gd_sr.best_estimator_,'\\n')\n",
    "\n"
   ]
  },
  {
   "cell_type": "markdown",
   "metadata": {
    "id": "X6XveqYKUvFE",
    "pycharm": {
     "name": "#%% md\n"
    }
   },
   "source": [
    "Vous constatez que RandomForestClassifier et DecisionTreeClassifier peuvent avoir la même accuracy.  \n",
    "Faire un gridsearch avec les deux classifieurs en prenant les paramètres précédents."
   ]
  },
  {
   "cell_type": "code",
   "execution_count": 19,
   "metadata": {
    "id": "AUfGgvV2UvFE",
    "pycharm": {
     "name": "#%%\n"
    }
   },
   "outputs": [],
   "source": [
    "classifiers = {\n",
    "    'RandomForestClassifier': RandomForestClassifier(),\n",
    "    'DecisionTreeClassifier': DecisionTreeClassifier()\n",
    "}\n",
    "\n",
    "params = {'RandomForestClassifier' : \n",
    "          [{'n_estimators': [4, 6, 9]}, \n",
    "            {'max_features': ['log2', 'sqrt','auto']}, \n",
    "            {'criterion': ['entropy', 'gini']},\n",
    "            {'max_depth': [2, 3, 5, 10]}, \n",
    "            {'min_samples_split': [2, 3, 5]},\n",
    "            {'min_samples_leaf': [1,5,8]}],\n",
    "           'DecisionTreeClassifier': \n",
    "          [{'max_depth': [1,2,3,4,5,6,7,8,9,10]},\n",
    "    {'criterion': ['gini', 'entropy']},\n",
    "    {'min_samples_leaf': [1,2,3,4,5,6,7,8,9,10]}]}\n",
    "\n"
   ]
  },
  {
   "cell_type": "code",
   "execution_count": 20,
   "metadata": {
    "colab": {
     "base_uri": "https://localhost:8080/",
     "height": 0
    },
    "id": "HisDK62NUvFF",
    "outputId": "c7d4a92e-e980-4557-9492-530a2ac61882",
    "pycharm": {
     "name": "#%%\n"
    }
   },
   "outputs": [
    {
     "output_type": "stream",
     "name": "stdout",
     "text": [
      "Le meilleur resultat : \n",
      "\n",
      "Classifier :  DecisionTreeClassifier  score 0.7800  avec  DecisionTreeClassifier(max_depth=1) \n",
      "\n",
      "Tous les résultats : \n",
      "\n",
      "Classifier :  DecisionTreeClassifier  score 0.7800  avec  DecisionTreeClassifier(max_depth=1) \n",
      "\n",
      "Classifier :  RandomForestClassifier  score 0.6800  avec  RandomForestClassifier(min_samples_split=3) \n",
      "\n"
     ]
    }
   ],
   "source": [
    "class Result:\n",
    "     def __init__(self,name, score, parameters):\n",
    "         self.name = name\n",
    "         self.score = score\n",
    "         self.parameters = parameters\n",
    "     def __repr__(self):\n",
    "         return repr((self.name, self.score, self.parameters))\n",
    "\n",
    "       \n",
    "results = []\n",
    "for key,value in classifiers.items():\n",
    "    gd_sr = GridSearchCV(estimator=value,  \n",
    "                     param_grid=params[key],\n",
    "                     scoring='accuracy',\n",
    "                     cv=10,\n",
    "                     n_jobs=1)\n",
    "    gd_sr.fit(X_train, y_train)  \n",
    "    result=Result(key,gd_sr.best_score_,\n",
    "                  gd_sr.best_estimator_)\n",
    "    results.append(result)   \n",
    "    \n",
    "    \n",
    "    \n",
    "results=sorted(results, \n",
    "               key=lambda result: result.score, \n",
    "               reverse=True) \n",
    "\n",
    "print ('Le meilleur resultat : \\n')\n",
    "print ('Classifier : ',results[0].name, \n",
    "       ' score %0.4f' %results[0].score, \n",
    "       ' avec ',results[0].parameters,'\\n')\n",
    "\n",
    "print ('Tous les résultats : \\n')\n",
    "for result in results:\n",
    "    print ('Classifier : ',result.name,\n",
    "           ' score %0.4f' %result.score,\n",
    "           ' avec ',result.parameters,'\\n')\n",
    "    \n",
    "\n"
   ]
  },
  {
   "cell_type": "markdown",
   "metadata": {
    "id": "BouBcjTPUvFG",
    "pycharm": {
     "name": "#%% md\n"
    }
   },
   "source": [
    "**Conclusion** : il faut toujours faire attention aux paramètres passés dans un classifieur. Ils peuvent tout changer !"
   ]
  },
  {
   "cell_type": "markdown",
   "metadata": {
    "id": "2kMDpwUHUvFH",
    "pycharm": {
     "name": "#%% md\n"
    }
   },
   "source": [
    "**Sauvegarde du modèle**\n",
    "\n",
    "Sauvegarder le meilleur modèle appris et recharger le pour le tester avec y_test."
   ]
  },
  {
   "cell_type": "code",
   "execution_count": 21,
   "metadata": {
    "id": "PZ6XaixMUvFJ",
    "pycharm": {
     "name": "#%%\n"
    }
   },
   "outputs": [],
   "source": [
    "clf=gd_sr.best_estimator_\n",
    "import pickle\n",
    "filename = 'pkl_Titanicbestmodel.sav'\n",
    "pickle.dump(clf, open(filename, 'wb'))"
   ]
  },
  {
   "cell_type": "code",
   "execution_count": 22,
   "metadata": {
    "colab": {
     "base_uri": "https://localhost:8080/",
     "height": 0
    },
    "id": "sE6oXt1XUvFJ",
    "outputId": "12066c32-5541-408e-b178-e2c604757a8f",
    "pycharm": {
     "name": "#%%\n"
    }
   },
   "outputs": [
    {
     "output_type": "stream",
     "name": "stdout",
     "text": [
      "Modèle chargé DecisionTreeClassifier(max_depth=1) \n",
      "\n",
      "\n",
      " accuracy:\n",
      "\n",
      "0.8165137614678899 \n",
      "\n",
      "\n",
      " matrice de confusion \n",
      " [[62 12]\n",
      " [ 8 27]]\n",
      "\n",
      "               precision    recall  f1-score   support\n",
      "\n",
      "           0       0.89      0.84      0.86        74\n",
      "           1       0.69      0.77      0.73        35\n",
      "\n",
      "    accuracy                           0.82       109\n",
      "   macro avg       0.79      0.80      0.80       109\n",
      "weighted avg       0.82      0.82      0.82       109\n",
      "\n"
     ]
    }
   ],
   "source": [
    "clf_loaded = pickle.load(open(filename, 'rb'))\n",
    "print ('Modèle chargé',clf_loaded,'\\n')\n",
    "result = clf_loaded.predict(X_test)\n",
    "\n",
    "print('\\n accuracy:\\n')\n",
    "print (accuracy_score(result, y_test),'\\n')\n",
    "\n",
    "conf = confusion_matrix(y_test, result)\n",
    "print ('\\n matrice de confusion \\n',conf)\n",
    "print ('\\n',classification_report(y_test, result))"
   ]
  }
 ],
 "metadata": {
  "kernelspec": {
   "display_name": "Python 3",
   "language": "python",
   "name": "python3"
  },
  "language_info": {
   "codemirror_mode": {
    "name": "ipython",
    "version": 3
   },
   "file_extension": ".py",
   "mimetype": "text/x-python",
   "name": "python",
   "nbconvert_exporter": "python",
   "pygments_lexer": "ipython3",
   "version": "3.6.4"
  },
  "colab": {
   "name": "TP2 _HAI817I_Solution.ipynb",
   "provenance": []
  }
 },
 "nbformat": 4,
 "nbformat_minor": 0
}